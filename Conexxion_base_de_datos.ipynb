{
  "nbformat": 4,
  "nbformat_minor": 0,
  "metadata": {
    "colab": {
      "provenance": []
    },
    "kernelspec": {
      "name": "python3",
      "display_name": "Python 3"
    },
    "language_info": {
      "name": "python"
    }
  },
  "cells": [
    {
      "cell_type": "code",
      "execution_count": 1,
      "metadata": {
        "colab": {
          "base_uri": "https://localhost:8080/"
        },
        "id": "tWBYFPLMvQUE",
        "outputId": "681d0965-8b5e-40a6-c396-2e98f780c4a3"
      },
      "outputs": [
        {
          "output_type": "stream",
          "name": "stdout",
          "text": [
            "Looking in indexes: https://pypi.org/simple, https://us-python.pkg.dev/colab-wheels/public/simple/\n",
            "Collecting mysql-connector-python\n",
            "  Downloading mysql_connector_python-8.0.33-cp310-cp310-manylinux1_x86_64.whl (27.4 MB)\n",
            "\u001b[2K     \u001b[90m━━━━━━━━━━━━━━━━━━━━━━━━━━━━━━━━━━━━━━━━\u001b[0m \u001b[32m27.4/27.4 MB\u001b[0m \u001b[31m24.0 MB/s\u001b[0m eta \u001b[36m0:00:00\u001b[0m\n",
            "\u001b[?25hRequirement already satisfied: protobuf<=3.20.3,>=3.11.0 in /usr/local/lib/python3.10/dist-packages (from mysql-connector-python) (3.20.3)\n",
            "Installing collected packages: mysql-connector-python\n",
            "Successfully installed mysql-connector-python-8.0.33\n"
          ]
        }
      ],
      "source": [
        "!pip install mysql-connector-python"
      ]
    },
    {
      "cell_type": "code",
      "source": [
        "import mysql.connector"
      ],
      "metadata": {
        "id": "L6r5oJ0zv2hJ"
      },
      "execution_count": 2,
      "outputs": []
    },
    {
      "cell_type": "code",
      "source": [
        "try: \n",
        "  connection = mysql.connector.connect(\n",
        "      host = 'localhost',\n",
        "      port = 3306,\n",
        "      user = 'root',\n",
        "      password = 'Omnicom234%&',\n",
        "      db = 'COVID_19'\n",
        "  )\n",
        "  if connection.is_connected():\n",
        "    print(\"Conexion Exitosa\")\n",
        "    info_sever = connection.get_server_info()\n",
        "    print(info_sever)\n",
        "except Exception as ex:\n",
        "  print(ex)"
      ],
      "metadata": {
        "id": "OrgNOKhCv4vN"
      },
      "execution_count": null,
      "outputs": []
    },
    {
      "cell_type": "code",
      "source": [
        "cur = connection.cursor()\n",
        "cur.execute( \"SELECT * FROM paises\" )\n",
        "for nombre, apellido in cur.fetchall() :\n",
        "    print (nombre, apellido)\n",
        "connection.close()"
      ],
      "metadata": {
        "id": "EYgvA4i-4UUf"
      },
      "execution_count": null,
      "outputs": []
    }
  ]
}